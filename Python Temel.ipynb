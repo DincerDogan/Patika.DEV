{
 "cells": [
  {
   "cell_type": "markdown",
   "id": "1813ae2e",
   "metadata": {},
   "source": [
    "## Python Temel Proje"
   ]
  },
  {
   "cell_type": "markdown",
   "id": "699fa64f",
   "metadata": {},
   "source": [
    "1. Bir listeyi düzleştiren (flatten) fonksiyon yazın. Elemanları birden çok katmanlı listtlerden ([[3],2] gibi) oluşabileceği gibi, non-scalar verilerden de oluşabilir.Örnek olarak:\n",
    "\n",
    "        input: [[1,'a',['cat'],2],[[[3]],'dog'],4,5]\n",
    "\n",
    "        output: [1,'a','cat',2,3,'dog',4,5]"
   ]
  },
  {
   "cell_type": "markdown",
   "id": "0230ed43",
   "metadata": {},
   "source": [
    "#### My solution"
   ]
  },
  {
   "cell_type": "code",
   "execution_count": 339,
   "id": "ded443d9",
   "metadata": {},
   "outputs": [],
   "source": [
    "flat = []\n",
    "\n",
    "def flatten(arr):\n",
    "    # iterate\n",
    "    for i in arr:\n",
    "        # check for list\n",
    "        if type(i) == list or type(i) == tuple:\n",
    "            flatten(i)\n",
    "        else:\n",
    "            flat.append(i)\n",
    "    return flat"
   ]
  },
  {
   "cell_type": "code",
   "execution_count": 340,
   "id": "dad61d67",
   "metadata": {},
   "outputs": [],
   "source": [
    "a = [[1,'a',['cat'],2],[[[3]],'dog'],4,5]"
   ]
  },
  {
   "cell_type": "code",
   "execution_count": 341,
   "id": "4b711988",
   "metadata": {},
   "outputs": [
    {
     "data": {
      "text/plain": [
       "[1, 'a', 'cat', 2, 3, 'dog', 4, 5]"
      ]
     },
     "execution_count": 341,
     "metadata": {},
     "output_type": "execute_result"
    }
   ],
   "source": [
    "flatten(a)"
   ]
  },
  {
   "cell_type": "markdown",
   "id": "842084b5",
   "metadata": {},
   "source": [
    "--------------"
   ]
  },
  {
   "cell_type": "code",
   "execution_count": 342,
   "id": "d3b97889",
   "metadata": {},
   "outputs": [],
   "source": [
    "def flatten(arr):\n",
    "    for i in arr: # en üst listede gezme\n",
    "        if isinstance(i, (list,tuple)): # eğer i bir liste yada tuple ise isinstance = True logic devam eder\n",
    "            for j in flatten(i): # yukarıdan çıkan her liste, tuple için tekrar flatten\n",
    "                yield j #generator object ^^ yoksa üst line çalışmaz\n",
    "        else:\n",
    "            yield i"
   ]
  },
  {
   "cell_type": "code",
   "execution_count": 343,
   "id": "385bd7ec",
   "metadata": {
    "scrolled": false
   },
   "outputs": [
    {
     "name": "stdout",
     "output_type": "stream",
     "text": [
      "[1, 'a', 'cat', 2, 3, 'dog', 4, 5]\n"
     ]
    }
   ],
   "source": [
    "a = [[1,'a',['cat'],2],[[[3]],'dog'],4,5]\n",
    "print(list(flatten(a)))"
   ]
  },
  {
   "cell_type": "markdown",
   "id": "4972c8e3",
   "metadata": {},
   "source": [
    "------------"
   ]
  },
  {
   "cell_type": "code",
   "execution_count": 344,
   "id": "da32d053",
   "metadata": {},
   "outputs": [],
   "source": [
    "def flatten(arr, seqtypes=(list, tuple)): #scalar/non scalar\n",
    "    for i, x in enumerate(arr): # i --> x\n",
    "                                # 0 --> [1,'a',['cat'],2]\n",
    "                                # 1 --> [[[3]],'dog']\n",
    "                                # 2 --> 4\n",
    "                                # 3 --> 5\n",
    "        while i < len(arr) and isinstance(arr[i], seqtypes): # arr[0] = list veya tuple ve i < 4 (enumerate max 3)\n",
    "            arr[i:i+1] = arr[i]\n",
    "            # [1,'a',['cat'],2] --> [1,\"a\",\"cat\",2]\n",
    "            # [[[3]],'dog'] --> [[3],\"dog\"] --> [3, \"dog\"]\n",
    "            # [4] --> [4]\n",
    "            # ...\n",
    "    return arr        "
   ]
  },
  {
   "cell_type": "code",
   "execution_count": 345,
   "id": "3fc1f054",
   "metadata": {},
   "outputs": [],
   "source": [
    "a = [[1,'a',['cat'],2],[[[3]],'dog'],4,5]"
   ]
  },
  {
   "cell_type": "code",
   "execution_count": 346,
   "id": "e4674cac",
   "metadata": {},
   "outputs": [
    {
     "name": "stdout",
     "output_type": "stream",
     "text": [
      "[1, 'a', 'cat', 2, 3, 'dog', 4, 5]\n"
     ]
    }
   ],
   "source": [
    "print(list(flatten(a)))"
   ]
  },
  {
   "cell_type": "markdown",
   "id": "a5e2bd96",
   "metadata": {},
   "source": [
    "--------------"
   ]
  },
  {
   "cell_type": "markdown",
   "id": "3f62f0ea",
   "metadata": {},
   "source": [
    "2. Verilen listenin içindeki elemanları tersine döndüren bir fonksiyon yazın. Eğer listenin içindeki elemanlar da liste içeriyorsa onların elemanlarını da tersine döndürün. Örnek olarak:\n",
    "\n",
    "        input: [[1, 2], [3, 4], [5, 6, 7]]\n",
    "\n",
    "        output: [[[7, 6, 5], [4, 3], [2, 1]]"
   ]
  },
  {
   "cell_type": "markdown",
   "id": "4b6b5bef",
   "metadata": {},
   "source": [
    "####  My solution"
   ]
  },
  {
   "cell_type": "code",
   "execution_count": 353,
   "id": "2c0fed4b",
   "metadata": {},
   "outputs": [],
   "source": [
    "def reverse_me(arr):\n",
    "    arr.reverse()\n",
    "    for i in arr:\n",
    "        if isinstance(i, list):\n",
    "            reverse_me(i)\n",
    "            # print(arr)\n",
    "    return arr"
   ]
  },
  {
   "cell_type": "code",
   "execution_count": 354,
   "id": "2d85f757",
   "metadata": {},
   "outputs": [],
   "source": [
    "a = [[1, 2], [3, 4], [5, 6, 7]]"
   ]
  },
  {
   "cell_type": "code",
   "execution_count": 355,
   "id": "507ce34b",
   "metadata": {},
   "outputs": [
    {
     "data": {
      "text/plain": [
       "[[7, 6, 5], [4, 3], [2, 1]]"
      ]
     },
     "execution_count": 355,
     "metadata": {},
     "output_type": "execute_result"
    }
   ],
   "source": [
    "reverse_me(a)"
   ]
  },
  {
   "cell_type": "code",
   "execution_count": 356,
   "id": "60e188b4",
   "metadata": {},
   "outputs": [],
   "source": [
    "b = [[[1, 2], [3, 4]], [5, 6, 7]]"
   ]
  },
  {
   "cell_type": "code",
   "execution_count": 357,
   "id": "8b952d2e",
   "metadata": {},
   "outputs": [],
   "source": [
    "#start  [[1, 2],[3, 4]]            [5, 6, 7]\n",
    "#layer1 [5, 6, 7]           [[1, 2], [3, 4]]\n",
    "#layer2 [7, 6, 5]             [3, 4], [1, 2]\n",
    "#layer3 [7, 6, 5]             [4, 3], [2, 1]\n",
    "#sonuc  [[7, 6, 5]          [[4, 3],[2, 1]]]"
   ]
  },
  {
   "cell_type": "code",
   "execution_count": 358,
   "id": "9f3446bb",
   "metadata": {},
   "outputs": [
    {
     "data": {
      "text/plain": [
       "[[7, 6, 5], [[4, 3], [2, 1]]]"
      ]
     },
     "execution_count": 358,
     "metadata": {},
     "output_type": "execute_result"
    }
   ],
   "source": [
    "reverse_me(b)"
   ]
  }
 ],
 "metadata": {
  "kernelspec": {
   "display_name": "Python 3",
   "language": "python",
   "name": "python3"
  },
  "language_info": {
   "codemirror_mode": {
    "name": "ipython",
    "version": 3
   },
   "file_extension": ".py",
   "mimetype": "text/x-python",
   "name": "python",
   "nbconvert_exporter": "python",
   "pygments_lexer": "ipython3",
   "version": "3.8.8"
  }
 },
 "nbformat": 4,
 "nbformat_minor": 5
}
